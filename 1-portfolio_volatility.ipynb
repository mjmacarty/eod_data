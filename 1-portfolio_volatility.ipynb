{
 "cells": [
  {
   "cell_type": "markdown",
   "metadata": {},
   "source": [
    "# Calculation of Portfolio Volatility\n",
    "![](mm2-variance.gif)"
   ]
  },
  {
   "cell_type": "markdown",
   "metadata": {},
   "source": [
    "### 1. Environment"
   ]
  },
  {
   "cell_type": "code",
   "execution_count": 54,
   "metadata": {},
   "outputs": [],
   "source": [
    "import datetime as dt\n",
    "import json\n",
    "import numpy as np\n",
    "import pandas as pd\n",
    "import requests"
   ]
  },
  {
   "cell_type": "code",
   "execution_count": null,
   "metadata": {},
   "outputs": [],
   "source": [
    "%pip install requests"
   ]
  },
  {
   "cell_type": "markdown",
   "metadata": {},
   "source": [
    "### 2. Preliminaries\n",
    "API used: https://eodhistoricaldata.com"
   ]
  },
  {
   "cell_type": "code",
   "execution_count": 63,
   "metadata": {},
   "outputs": [],
   "source": [
    "key = open('api_token.txt').read()\n",
    "start = dt.date.today() - dt.timedelta(366)\n",
    "symbols = \"SPY GLD AMZN GOOG KPTI GILD MPC\".split()\n",
    "weights = np.array([14.3, 14.3, 14.3, 14.3, 14.3, 14.3, 14.2]) / 100\n",
    "data = []"
   ]
  },
  {
   "cell_type": "markdown",
   "metadata": {},
   "source": [
    "### 3. Download and prepare data"
   ]
  },
  {
   "cell_type": "code",
   "execution_count": 65,
   "metadata": {},
   "outputs": [
    {
     "data": {
      "text/html": [
       "<div>\n",
       "<style scoped>\n",
       "    .dataframe tbody tr th:only-of-type {\n",
       "        vertical-align: middle;\n",
       "    }\n",
       "\n",
       "    .dataframe tbody tr th {\n",
       "        vertical-align: top;\n",
       "    }\n",
       "\n",
       "    .dataframe thead th {\n",
       "        text-align: right;\n",
       "    }\n",
       "</style>\n",
       "<table border=\"1\" class=\"dataframe\">\n",
       "  <thead>\n",
       "    <tr style=\"text-align: right;\">\n",
       "      <th></th>\n",
       "      <th>SPY</th>\n",
       "      <th>GLD</th>\n",
       "      <th>AMZN</th>\n",
       "      <th>GOOG</th>\n",
       "      <th>KPTI</th>\n",
       "      <th>GILD</th>\n",
       "      <th>MPC</th>\n",
       "    </tr>\n",
       "    <tr>\n",
       "      <th>date</th>\n",
       "      <th></th>\n",
       "      <th></th>\n",
       "      <th></th>\n",
       "      <th></th>\n",
       "      <th></th>\n",
       "      <th></th>\n",
       "      <th></th>\n",
       "    </tr>\n",
       "  </thead>\n",
       "  <tbody>\n",
       "    <tr>\n",
       "      <th>2020-08-17</th>\n",
       "      <td>337.91</td>\n",
       "      <td>186.50</td>\n",
       "      <td>3182.41</td>\n",
       "      <td>1517.98</td>\n",
       "      <td>15.26</td>\n",
       "      <td>69.15</td>\n",
       "      <td>38.65</td>\n",
       "    </tr>\n",
       "    <tr>\n",
       "      <th>2020-08-18</th>\n",
       "      <td>338.64</td>\n",
       "      <td>188.18</td>\n",
       "      <td>3312.49</td>\n",
       "      <td>1558.60</td>\n",
       "      <td>15.14</td>\n",
       "      <td>69.06</td>\n",
       "      <td>37.24</td>\n",
       "    </tr>\n",
       "    <tr>\n",
       "      <th>2020-08-19</th>\n",
       "      <td>337.23</td>\n",
       "      <td>182.24</td>\n",
       "      <td>3260.48</td>\n",
       "      <td>1547.53</td>\n",
       "      <td>14.90</td>\n",
       "      <td>65.70</td>\n",
       "      <td>37.18</td>\n",
       "    </tr>\n",
       "    <tr>\n",
       "      <th>2020-08-20</th>\n",
       "      <td>338.28</td>\n",
       "      <td>183.50</td>\n",
       "      <td>3297.37</td>\n",
       "      <td>1581.75</td>\n",
       "      <td>14.55</td>\n",
       "      <td>66.05</td>\n",
       "      <td>35.62</td>\n",
       "    </tr>\n",
       "    <tr>\n",
       "      <th>2020-08-21</th>\n",
       "      <td>339.48</td>\n",
       "      <td>182.03</td>\n",
       "      <td>3284.72</td>\n",
       "      <td>1580.42</td>\n",
       "      <td>14.20</td>\n",
       "      <td>66.50</td>\n",
       "      <td>35.40</td>\n",
       "    </tr>\n",
       "  </tbody>\n",
       "</table>\n",
       "</div>"
      ],
      "text/plain": [
       "               SPY     GLD     AMZN     GOOG   KPTI   GILD    MPC\n",
       "date                                                             \n",
       "2020-08-17  337.91  186.50  3182.41  1517.98  15.26  69.15  38.65\n",
       "2020-08-18  338.64  188.18  3312.49  1558.60  15.14  69.06  37.24\n",
       "2020-08-19  337.23  182.24  3260.48  1547.53  14.90  65.70  37.18\n",
       "2020-08-20  338.28  183.50  3297.37  1581.75  14.55  66.05  35.62\n",
       "2020-08-21  339.48  182.03  3284.72  1580.42  14.20  66.50  35.40"
      ]
     },
     "execution_count": 65,
     "metadata": {},
     "output_type": "execute_result"
    }
   ],
   "source": [
    "for symbol in symbols:\n",
    "    request = f\"https://eodhistoricaldata.com/api/eod/{symbol}.US?api_token={key}&from={start}&fmt=json\"\n",
    "    raw =requests.get(request).text\n",
    "    raw = pd.DataFrame(json.loads(raw))\n",
    "    data.append(raw['close'])\n",
    "data = pd.DataFrame(data).T\n",
    "data.columns = symbols\n",
    "data.index = raw['date']\n",
    "data.head()    "
   ]
  },
  {
   "cell_type": "markdown",
   "metadata": {},
   "source": [
    "### 4. Calculate instaneous returns"
   ]
  },
  {
   "cell_type": "code",
   "execution_count": 75,
   "metadata": {},
   "outputs": [
    {
     "name": "stdout",
     "output_type": "stream",
     "text": [
      "30.10%\n"
     ]
    }
   ],
   "source": [
    "returns = np.log(data).diff()\n",
    "returns.dropna(inplace = True)\n",
    "len(returns)\n",
    "std = np.sqrt(returns.var() * 251)\n",
    "print(f\"{std.mean():.2%}\")"
   ]
  },
  {
   "cell_type": "markdown",
   "metadata": {},
   "source": [
    "### 5. Equal Weighted Portfolio Volatility "
   ]
  },
  {
   "cell_type": "code",
   "execution_count": 77,
   "metadata": {},
   "outputs": [
    {
     "name": "stdout",
     "output_type": "stream",
     "text": [
      "17.74%\n"
     ]
    }
   ],
   "source": [
    "cov = returns.cov() * 251\n",
    "print(f\"{np.sqrt(np.dot(weights.T, np.dot(cov, weights))):.2%}\")"
   ]
  },
  {
   "cell_type": "code",
   "execution_count": null,
   "metadata": {},
   "outputs": [],
   "source": []
  },
  {
   "cell_type": "code",
   "execution_count": null,
   "metadata": {},
   "outputs": [],
   "source": []
  },
  {
   "cell_type": "code",
   "execution_count": null,
   "metadata": {},
   "outputs": [],
   "source": []
  },
  {
   "cell_type": "code",
   "execution_count": null,
   "metadata": {},
   "outputs": [],
   "source": []
  },
  {
   "cell_type": "code",
   "execution_count": null,
   "metadata": {},
   "outputs": [],
   "source": []
  },
  {
   "cell_type": "code",
   "execution_count": null,
   "metadata": {},
   "outputs": [],
   "source": []
  },
  {
   "cell_type": "code",
   "execution_count": null,
   "metadata": {},
   "outputs": [],
   "source": []
  },
  {
   "cell_type": "code",
   "execution_count": null,
   "metadata": {},
   "outputs": [],
   "source": []
  },
  {
   "cell_type": "code",
   "execution_count": null,
   "metadata": {},
   "outputs": [],
   "source": []
  }
 ],
 "metadata": {
  "kernelspec": {
   "display_name": "Python 3",
   "language": "python",
   "name": "python3"
  },
  "language_info": {
   "codemirror_mode": {
    "name": "ipython",
    "version": 3
   },
   "file_extension": ".py",
   "mimetype": "text/x-python",
   "name": "python",
   "nbconvert_exporter": "python",
   "pygments_lexer": "ipython3",
   "version": "3.7.5"
  }
 },
 "nbformat": 4,
 "nbformat_minor": 4
}
