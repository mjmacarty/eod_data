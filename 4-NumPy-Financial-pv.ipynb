{
 "cells": [
  {
   "cell_type": "markdown",
   "id": "7fdb10ab",
   "metadata": {},
   "source": [
    "# Using NumPy Financial - pv function\n",
    "* common financial functions were traditionally part NumPy\n",
    "* were removed and packaged separately in NumPy version 1.17\n",
    "* functions that work indistinguishably from their Excel counterparts, but generally better!"
   ]
  },
  {
   "cell_type": "markdown",
   "id": "bc2e3566",
   "metadata": {},
   "source": [
    "### 1. If you don't already have the package\n",
    "* Run the following in a notebook code cell:\n",
    "    `!pip install numpy-financial`"
   ]
  },
  {
   "cell_type": "markdown",
   "id": "9bbd4005",
   "metadata": {},
   "source": [
    "### 2. Import any modules and packages for your environment "
   ]
  },
  {
   "cell_type": "code",
   "execution_count": 1,
   "id": "c798a44f",
   "metadata": {},
   "outputs": [
    {
     "data": {
      "text/plain": [
       "'1.0.0'"
      ]
     },
     "execution_count": 1,
     "metadata": {},
     "output_type": "execute_result"
    }
   ],
   "source": [
    "import numpy as np\n",
    "import numpy_financial as npf\n",
    "npf.__version__"
   ]
  },
  {
   "cell_type": "code",
   "execution_count": 2,
   "id": "e19d46af",
   "metadata": {},
   "outputs": [
    {
     "data": {
      "text/plain": [
       "['fv', 'ipmt', 'irr', 'mirr', 'nper', 'npv', 'pmt', 'ppmt', 'pv', 'rate']"
      ]
     },
     "execution_count": 2,
     "metadata": {},
     "output_type": "execute_result"
    }
   ],
   "source": [
    "[function for function in dir(npf) if not function.startswith('_')]"
   ]
  },
  {
   "cell_type": "code",
   "execution_count": 7,
   "id": "0e8446be",
   "metadata": {},
   "outputs": [
    {
     "name": "stdout",
     "output_type": "stream",
     "text": [
      "Help on function pv in module numpy_financial._financial:\n",
      "\n",
      "pv(rate, nper, pmt, fv=0, when='end')\n",
      "    Compute the present value.\n",
      "    \n",
      "    Given:\n",
      "     * a future value, `fv`\n",
      "     * an interest `rate` compounded once per period, of which\n",
      "       there are\n",
      "     * `nper` total\n",
      "     * a (fixed) payment, `pmt`, paid either\n",
      "     * at the beginning (`when` = {'begin', 1}) or the end\n",
      "       (`when` = {'end', 0}) of each period\n",
      "    \n",
      "    Return:\n",
      "       the value now\n",
      "    \n",
      "    Parameters\n",
      "    ----------\n",
      "    rate : array_like\n",
      "        Rate of interest (per period)\n",
      "    nper : array_like\n",
      "        Number of compounding periods\n",
      "    pmt : array_like\n",
      "        Payment\n",
      "    fv : array_like, optional\n",
      "        Future value\n",
      "    when : {{'begin', 1}, {'end', 0}}, {string, int}, optional\n",
      "        When payments are due ('begin' (1) or 'end' (0))\n",
      "    \n",
      "    Returns\n",
      "    -------\n",
      "    out : ndarray, float\n",
      "        Present value of a series of payments or investments.\n",
      "    \n",
      "    Notes\n",
      "    -----\n",
      "    The present value is computed by solving the equation::\n",
      "    \n",
      "     fv +\n",
      "     pv*(1 + rate)**nper +\n",
      "     pmt*(1 + rate*when)/rate*((1 + rate)**nper - 1) = 0\n",
      "    \n",
      "    or, when ``rate = 0``::\n",
      "    \n",
      "     fv + pv + pmt * nper = 0\n",
      "    \n",
      "    for `pv`, which is then returned.\n",
      "    \n",
      "    References\n",
      "    ----------\n",
      "    .. [WRW] Wheeler, D. A., E. Rathke, and R. Weir (Eds.) (2009, May).\n",
      "       Open Document Format for Office Applications (OpenDocument)v1.2,\n",
      "       Part 2: Recalculated Formula (OpenFormula) Format - Annotated Version,\n",
      "       Pre-Draft 12. Organization for the Advancement of Structured Information\n",
      "       Standards (OASIS). Billerica, MA, USA. [ODT Document].\n",
      "       Available:\n",
      "       http://www.oasis-open.org/committees/documents.php?wg_abbrev=office-formula\n",
      "       OpenDocument-formula-20090508.odt\n",
      "    \n",
      "    Examples\n",
      "    --------\n",
      "    >>> import numpy as np\n",
      "    >>> import numpy_financial as npf\n",
      "    \n",
      "    What is the present value (e.g., the initial investment)\n",
      "    of an investment that needs to total $15692.93\n",
      "    after 10 years of saving $100 every month?  Assume the\n",
      "    interest rate is 5% (annually) compounded monthly.\n",
      "    \n",
      "    >>> npf.pv(0.05/12, 10*12, -100, 15692.93)\n",
      "    -100.00067131625819\n",
      "    \n",
      "    By convention, the negative sign represents cash flow out\n",
      "    (i.e., money not available today).  Thus, to end up with\n",
      "    $15,692.93 in 10 years saving $100 a month at 5% annual\n",
      "    interest, one's initial deposit should also be $100.\n",
      "    \n",
      "    If any input is array_like, ``pv`` returns an array of equal shape.\n",
      "    Let's compare different interest rates in the example above:\n",
      "    \n",
      "    >>> a = np.array((0.05, 0.04, 0.03))/12\n",
      "    >>> npf.pv(a, 10*12, -100, 15692.93)\n",
      "    array([ -100.00067132,  -649.26771385, -1273.78633713]) # may vary\n",
      "    \n",
      "    So, to end up with the same $15692.93 under the same $100 per month\n",
      "    \"savings plan,\" for annual interest rates of 4% and 3%, one would\n",
      "    need initial investments of $649.27 and $1273.79, respectively.\n",
      "\n"
     ]
    }
   ],
   "source": [
    "help(npf.pv)"
   ]
  },
  {
   "cell_type": "code",
   "execution_count": null,
   "id": "1e600960",
   "metadata": {},
   "outputs": [],
   "source": []
  },
  {
   "cell_type": "markdown",
   "id": "0c10c173",
   "metadata": {},
   "source": [
    "### Suppose you are going to receive for the next five years (beginning a year from today)\n",
    "* Annuity amount: $100,000\n",
    "\n",
    "* Return on investment: 9%\n",
    "* Life of Annuity is five years\n",
    "\n",
    "1. How much is $100,000 received a year from now  worth today?\n",
    "2. How much is each installment worth over the five years?\n",
    "3. What is the value of the entire annuity in today's dollars?\n"
   ]
  },
  {
   "cell_type": "code",
   "execution_count": 11,
   "id": "1498a9dd",
   "metadata": {},
   "outputs": [],
   "source": [
    "rate = .09\n",
    "cashflow = 100000\n",
    "T = 5"
   ]
  },
  {
   "cell_type": "code",
   "execution_count": 13,
   "id": "c4b80218",
   "metadata": {},
   "outputs": [
    {
     "data": {
      "text/plain": [
       "64993.13862983453"
      ]
     },
     "execution_count": 13,
     "metadata": {},
     "output_type": "execute_result"
    }
   ],
   "source": [
    "npf.pv(rate, T,0, -cashflow)"
   ]
  },
  {
   "cell_type": "code",
   "execution_count": 14,
   "id": "868ffb8f",
   "metadata": {},
   "outputs": [
    {
     "data": {
      "text/plain": [
       "array([91743.11926606, 84167.99932666, 77218.34800611, 70842.52110652,\n",
       "       64993.13862983])"
      ]
     },
     "execution_count": 14,
     "metadata": {},
     "output_type": "execute_result"
    }
   ],
   "source": [
    "T = range(1,6)\n",
    "cashflows = npf.pv(rate, T, 0, -cashflow)\n",
    "cashflows"
   ]
  },
  {
   "cell_type": "code",
   "execution_count": 16,
   "id": "c3df561f",
   "metadata": {},
   "outputs": [
    {
     "name": "stdout",
     "output_type": "stream",
     "text": [
      "Year           PV of Cash Flow\n",
      "------------------------------\n",
      "1                  $ 91,743.12\n",
      "2                  $ 84,168.00\n",
      "3                  $ 77,218.35\n",
      "4                  $ 70,842.52\n",
      "5                  $ 64,993.14\n"
     ]
    }
   ],
   "source": [
    "print(f\"{'Year':15}{'PV of Cash Flow'}\")\n",
    "print(f\"-\" * 30)\n",
    "for year in T:\n",
    "    balance = f'$ {cashflows[year - 1]:,.2f}'\n",
    "    print(f'{year}{balance:>29s}')"
   ]
  },
  {
   "cell_type": "code",
   "execution_count": 17,
   "id": "b281850b",
   "metadata": {},
   "outputs": [
    {
     "data": {
      "text/plain": [
       "array([ 91743.12, 175911.12, 253129.47, 323971.99, 388965.13])"
      ]
     },
     "execution_count": 17,
     "metadata": {},
     "output_type": "execute_result"
    }
   ],
   "source": [
    "np.cumsum(cashflows).round(2)"
   ]
  },
  {
   "cell_type": "code",
   "execution_count": null,
   "id": "95a30e4c",
   "metadata": {},
   "outputs": [],
   "source": []
  },
  {
   "cell_type": "code",
   "execution_count": null,
   "id": "b9229217",
   "metadata": {},
   "outputs": [],
   "source": []
  },
  {
   "cell_type": "code",
   "execution_count": null,
   "id": "92029a32",
   "metadata": {},
   "outputs": [],
   "source": []
  },
  {
   "cell_type": "code",
   "execution_count": null,
   "id": "2cfeadeb",
   "metadata": {},
   "outputs": [],
   "source": []
  },
  {
   "cell_type": "code",
   "execution_count": null,
   "id": "b752536c",
   "metadata": {},
   "outputs": [],
   "source": []
  },
  {
   "cell_type": "code",
   "execution_count": null,
   "id": "571c13ba",
   "metadata": {},
   "outputs": [],
   "source": []
  }
 ],
 "metadata": {
  "kernelspec": {
   "display_name": "Python 3 (ipykernel)",
   "language": "python",
   "name": "python3"
  },
  "language_info": {
   "codemirror_mode": {
    "name": "ipython",
    "version": 3
   },
   "file_extension": ".py",
   "mimetype": "text/x-python",
   "name": "python",
   "nbconvert_exporter": "python",
   "pygments_lexer": "ipython3",
   "version": "3.9.7"
  }
 },
 "nbformat": 4,
 "nbformat_minor": 5
}
