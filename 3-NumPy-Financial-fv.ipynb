{
 "cells": [
  {
   "cell_type": "markdown",
   "id": "8461c1e0",
   "metadata": {},
   "source": [
    "# Using NumPy Financial - fv function\n",
    "* common financial functions were traditionally part NumPy\n",
    "* were removed and packaged separately in NumPy version 1.17\n",
    "* functions that work indistinguishably from their Excel counterparts, but generally better!"
   ]
  },
  {
   "cell_type": "markdown",
   "id": "45f783ae",
   "metadata": {},
   "source": [
    "### 1. If you don't already have the package\n",
    "* Run the following in a notebook code cell:\n",
    "    `!pip install numpy-financial`"
   ]
  },
  {
   "cell_type": "markdown",
   "id": "b6f9193e",
   "metadata": {},
   "source": [
    "### 2. Import any modules and packages for your environment "
   ]
  },
  {
   "cell_type": "code",
   "execution_count": 4,
   "id": "51a06ffe",
   "metadata": {},
   "outputs": [
    {
     "data": {
      "text/plain": [
       "'1.0.0'"
      ]
     },
     "execution_count": 4,
     "metadata": {},
     "output_type": "execute_result"
    }
   ],
   "source": [
    "import numpy_financial as npf\n",
    "npf.__version__"
   ]
  },
  {
   "cell_type": "code",
   "execution_count": 5,
   "id": "6ef189ec",
   "metadata": {},
   "outputs": [
    {
     "data": {
      "text/plain": [
       "['fv', 'ipmt', 'irr', 'mirr', 'nper', 'npv', 'pmt', 'ppmt', 'pv', 'rate']"
      ]
     },
     "execution_count": 5,
     "metadata": {},
     "output_type": "execute_result"
    }
   ],
   "source": [
    "[function for function in dir(npf) if not function.startswith('_')]"
   ]
  },
  {
   "cell_type": "code",
   "execution_count": 6,
   "id": "7ac5e05a",
   "metadata": {},
   "outputs": [
    {
     "name": "stdout",
     "output_type": "stream",
     "text": [
      "Help on function fv in module numpy_financial._financial:\n",
      "\n",
      "fv(rate, nper, pmt, pv, when='end')\n",
      "    Compute the future value.\n",
      "    \n",
      "    Given:\n",
      "     * a present value, `pv`\n",
      "     * an interest `rate` compounded once per period, of which\n",
      "       there are\n",
      "     * `nper` total\n",
      "     * a (fixed) payment, `pmt`, paid either\n",
      "     * at the beginning (`when` = {'begin', 1}) or the end\n",
      "       (`when` = {'end', 0}) of each period\n",
      "    \n",
      "    Return:\n",
      "       the value at the end of the `nper` periods\n",
      "    \n",
      "    Parameters\n",
      "    ----------\n",
      "    rate : scalar or array_like of shape(M, )\n",
      "        Rate of interest as decimal (not per cent) per period\n",
      "    nper : scalar or array_like of shape(M, )\n",
      "        Number of compounding periods\n",
      "    pmt : scalar or array_like of shape(M, )\n",
      "        Payment\n",
      "    pv : scalar or array_like of shape(M, )\n",
      "        Present value\n",
      "    when : {{'begin', 1}, {'end', 0}}, {string, int}, optional\n",
      "        When payments are due ('begin' (1) or 'end' (0)).\n",
      "        Defaults to {'end', 0}.\n",
      "    \n",
      "    Returns\n",
      "    -------\n",
      "    out : ndarray\n",
      "        Future values.  If all input is scalar, returns a scalar float.  If\n",
      "        any input is array_like, returns future values for each input element.\n",
      "        If multiple inputs are array_like, they all must have the same shape.\n",
      "    \n",
      "    Notes\n",
      "    -----\n",
      "    The future value is computed by solving the equation::\n",
      "    \n",
      "     fv +\n",
      "     pv*(1+rate)**nper +\n",
      "     pmt*(1 + rate*when)/rate*((1 + rate)**nper - 1) == 0\n",
      "    \n",
      "    or, when ``rate == 0``::\n",
      "    \n",
      "     fv + pv + pmt * nper == 0\n",
      "    \n",
      "    References\n",
      "    ----------\n",
      "    .. [WRW] Wheeler, D. A., E. Rathke, and R. Weir (Eds.) (2009, May).\n",
      "       Open Document Format for Office Applications (OpenDocument)v1.2,\n",
      "       Part 2: Recalculated Formula (OpenFormula) Format - Annotated Version,\n",
      "       Pre-Draft 12. Organization for the Advancement of Structured Information\n",
      "       Standards (OASIS). Billerica, MA, USA. [ODT Document].\n",
      "       Available:\n",
      "       http://www.oasis-open.org/committees/documents.php?wg_abbrev=office-formula\n",
      "       OpenDocument-formula-20090508.odt\n",
      "    \n",
      "    Examples\n",
      "    --------\n",
      "    >>> import numpy as np\n",
      "    >>> import numpy_financial as npf\n",
      "    \n",
      "    What is the future value after 10 years of saving $100 now, with\n",
      "    an additional monthly savings of $100.  Assume the interest rate is\n",
      "    5% (annually) compounded monthly?\n",
      "    \n",
      "    >>> npf.fv(0.05/12, 10*12, -100, -100)\n",
      "    15692.928894335748\n",
      "    \n",
      "    By convention, the negative sign represents cash flow out (i.e. money not\n",
      "    available today).  Thus, saving $100 a month at 5% annual interest leads\n",
      "    to $15,692.93 available to spend in 10 years.\n",
      "    \n",
      "    If any input is array_like, returns an array of equal shape.  Let's\n",
      "    compare different interest rates from the example above.\n",
      "    \n",
      "    >>> a = np.array((0.05, 0.06, 0.07))/12\n",
      "    >>> npf.fv(a, 10*12, -100, -100)\n",
      "    array([ 15692.92889434,  16569.87435405,  17509.44688102]) # may vary\n",
      "\n"
     ]
    }
   ],
   "source": [
    "help(npf.fv)"
   ]
  },
  {
   "cell_type": "code",
   "execution_count": 16,
   "id": "9afd5f34",
   "metadata": {},
   "outputs": [],
   "source": [
    "rate = .09\n",
    "T = 5\n",
    "pmt = 7000\n",
    "pv = 100000"
   ]
  },
  {
   "cell_type": "code",
   "execution_count": 17,
   "id": "41587f23",
   "metadata": {},
   "outputs": [
    {
     "name": "stdout",
     "output_type": "stream",
     "text": [
      "$ 195,755.37\n"
     ]
    }
   ],
   "source": [
    "print(f'$ {npf.fv(rate,T,-pmt, -pv):,.2f}')"
   ]
  },
  {
   "cell_type": "code",
   "execution_count": 18,
   "id": "81923e50",
   "metadata": {},
   "outputs": [
    {
     "data": {
      "text/plain": [
       "[0.04, 0.05, 0.06, 0.07, 0.08, 0.09]"
      ]
     },
     "execution_count": 18,
     "metadata": {},
     "output_type": "execute_result"
    }
   ],
   "source": [
    "rates = [rate / 100 for rate in range(4,10)]\n",
    "rates"
   ]
  },
  {
   "cell_type": "code",
   "execution_count": 22,
   "id": "f00fbf0c",
   "metadata": {},
   "outputs": [],
   "source": [
    "fv = npf.fv(rates, T, -pmt, -pv)"
   ]
  },
  {
   "cell_type": "code",
   "execution_count": 23,
   "id": "1088f4a2",
   "metadata": {},
   "outputs": [
    {
     "name": "stdout",
     "output_type": "stream",
     "text": [
      "Rate           Ending Value\n",
      "---------------------------\n",
      "4.00%          $ 159,579.55\n",
      "5.00%          $ 166,307.58\n",
      "6.00%          $ 173,282.21\n",
      "7.00%          $ 180,510.35\n",
      "8.00%          $ 187,999.01\n",
      "9.00%          $ 195,755.37\n"
     ]
    }
   ],
   "source": [
    "print(f\"{'Rate':15}{'Ending Value'}\")\n",
    "print(f\"-\" * 27)\n",
    "for scenario in range(len(fv)):\n",
    "    balance = f'$ {fv[scenario]:,.2f}'\n",
    "    print(f'{rates[scenario]:.2%}{balance:>22s}')\n"
   ]
  },
  {
   "cell_type": "code",
   "execution_count": 26,
   "id": "eccc9c55",
   "metadata": {},
   "outputs": [],
   "source": [
    "T = list(range(5,10))"
   ]
  },
  {
   "cell_type": "code",
   "execution_count": 27,
   "id": "07eac5ef",
   "metadata": {},
   "outputs": [
    {
     "data": {
      "text/plain": [
       "array([195755.36976   , 220373.3530384 , 247206.95481186, 276455.58074492,\n",
       "       308336.58301197])"
      ]
     },
     "execution_count": 27,
     "metadata": {},
     "output_type": "execute_result"
    }
   ],
   "source": [
    "fv = npf.fv(rate, T, -pmt, -pv)\n",
    "fv"
   ]
  },
  {
   "cell_type": "code",
   "execution_count": 29,
   "id": "954a72eb",
   "metadata": {},
   "outputs": [
    {
     "name": "stdout",
     "output_type": "stream",
     "text": [
      "Years          Ending Value\n",
      "---------------------------\n",
      "5              $ 195,755.37\n",
      "6              $ 220,373.35\n",
      "7              $ 247,206.95\n",
      "8              $ 276,455.58\n",
      "9              $ 308,336.58\n"
     ]
    }
   ],
   "source": [
    "print(f\"{'Years':15}{'Ending Value'}\")\n",
    "print(f\"-\" * 27)\n",
    "for scenario in range(len(fv)):\n",
    "    balance = f'$ {fv[scenario]:,.2f}'\n",
    "    print(f'{T[scenario]}{balance:>26s}')\n"
   ]
  },
  {
   "cell_type": "code",
   "execution_count": null,
   "id": "e8a1e350",
   "metadata": {},
   "outputs": [],
   "source": []
  },
  {
   "cell_type": "code",
   "execution_count": null,
   "id": "e87cd44b",
   "metadata": {},
   "outputs": [],
   "source": []
  },
  {
   "cell_type": "code",
   "execution_count": null,
   "id": "82f5e4ce",
   "metadata": {},
   "outputs": [],
   "source": []
  },
  {
   "cell_type": "code",
   "execution_count": null,
   "id": "c108624f",
   "metadata": {},
   "outputs": [],
   "source": []
  }
 ],
 "metadata": {
  "kernelspec": {
   "display_name": "Python 3 (ipykernel)",
   "language": "python",
   "name": "python3"
  },
  "language_info": {
   "codemirror_mode": {
    "name": "ipython",
    "version": 3
   },
   "file_extension": ".py",
   "mimetype": "text/x-python",
   "name": "python",
   "nbconvert_exporter": "python",
   "pygments_lexer": "ipython3",
   "version": "3.9.7"
  }
 },
 "nbformat": 4,
 "nbformat_minor": 5
}
