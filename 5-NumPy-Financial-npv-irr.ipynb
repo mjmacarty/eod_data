{
 "cells": [
  {
   "cell_type": "markdown",
   "id": "7fdb10ab",
   "metadata": {},
   "source": [
    "# Using NumPy Financial - npv/irr functions\n",
    "* common financial functions were traditionally part NumPy\n",
    "* were removed and packaged separately in NumPy version 1.17\n",
    "* functions that work indistinguishably from their Excel counterparts, but generally better!"
   ]
  },
  {
   "cell_type": "markdown",
   "id": "bc2e3566",
   "metadata": {},
   "source": [
    "### 1. If you don't already have the package\n",
    "* Run the following in a notebook code cell:\n",
    "    `!pip install numpy-financial`"
   ]
  },
  {
   "cell_type": "markdown",
   "id": "9bbd4005",
   "metadata": {},
   "source": [
    "### 2. Import any modules and packages for your environment "
   ]
  },
  {
   "cell_type": "code",
   "execution_count": 12,
   "id": "c798a44f",
   "metadata": {},
   "outputs": [
    {
     "data": {
      "text/plain": [
       "'1.0.0'"
      ]
     },
     "execution_count": 12,
     "metadata": {},
     "output_type": "execute_result"
    }
   ],
   "source": [
    "import numpy_financial as npf\n",
    "npf.__version__"
   ]
  },
  {
   "cell_type": "code",
   "execution_count": 13,
   "id": "e19d46af",
   "metadata": {},
   "outputs": [
    {
     "data": {
      "text/plain": [
       "['fv', 'ipmt', 'irr', 'mirr', 'nper', 'npv', 'pmt', 'ppmt', 'pv', 'rate']"
      ]
     },
     "execution_count": 13,
     "metadata": {},
     "output_type": "execute_result"
    }
   ],
   "source": [
    "[function for function in dir(npf) if not function.startswith('_')]"
   ]
  },
  {
   "cell_type": "code",
   "execution_count": 14,
   "id": "0e8446be",
   "metadata": {},
   "outputs": [
    {
     "name": "stdout",
     "output_type": "stream",
     "text": [
      "Help on function npv in module numpy_financial._financial:\n",
      "\n",
      "npv(rate, values)\n",
      "    Returns the NPV (Net Present Value) of a cash flow series.\n",
      "    \n",
      "    Parameters\n",
      "    ----------\n",
      "    rate : scalar\n",
      "        The discount rate.\n",
      "    values : array_like, shape(M, )\n",
      "        The values of the time series of cash flows.  The (fixed) time\n",
      "        interval between cash flow \"events\" must be the same as that for\n",
      "        which `rate` is given (i.e., if `rate` is per year, then precisely\n",
      "        a year is understood to elapse between each cash flow event).  By\n",
      "        convention, investments or \"deposits\" are negative, income or\n",
      "        \"withdrawals\" are positive; `values` must begin with the initial\n",
      "        investment, thus `values[0]` will typically be negative.\n",
      "    \n",
      "    Returns\n",
      "    -------\n",
      "    out : float\n",
      "        The NPV of the input cash flow series `values` at the discount\n",
      "        `rate`.\n",
      "    \n",
      "    Warnings\n",
      "    --------\n",
      "    ``npv`` considers a series of cashflows starting in the present (t = 0).\n",
      "    NPV can also be defined with a series of future cashflows, paid at the\n",
      "    end, rather than the start, of each period. If future cashflows are used,\n",
      "    the first cashflow `values[0]` must be zeroed and added to the net\n",
      "    present value of the future cashflows. This is demonstrated in the\n",
      "    examples.\n",
      "    \n",
      "    Notes\n",
      "    -----\n",
      "    Returns the result of: [G]_\n",
      "    \n",
      "    .. math :: \\sum_{t=0}^{M-1}{\\frac{values_t}{(1+rate)^{t}}}\n",
      "    \n",
      "    References\n",
      "    ----------\n",
      "    .. [G] L. J. Gitman, \"Principles of Managerial Finance, Brief,\" 3rd ed.,\n",
      "       Addison-Wesley, 2003, pg. 346.\n",
      "    \n",
      "    Examples\n",
      "    --------\n",
      "    >>> import numpy as np\n",
      "    >>> import numpy_financial as npf\n",
      "    \n",
      "    Consider a potential project with an initial investment of $40 000 and\n",
      "    projected cashflows of $5 000, $8 000, $12 000 and $30 000 at the end of\n",
      "    each period discounted at a rate of 8% per period. To find the project's\n",
      "    net present value:\n",
      "    \n",
      "    >>> rate, cashflows = 0.08, [-40_000, 5_000, 8_000, 12_000, 30_000]\n",
      "    >>> npf.npv(rate, cashflows).round(5)\n",
      "    3065.22267\n",
      "    \n",
      "    It may be preferable to split the projected cashflow into an initial\n",
      "    investment and expected future cashflows. In this case, the value of\n",
      "    the initial cashflow is zero and the initial investment is later added\n",
      "    to the future cashflows net present value:\n",
      "    \n",
      "    >>> initial_cashflow = cashflows[0]\n",
      "    >>> cashflows[0] = 0\n",
      "    >>> np.round(npf.npv(rate, cashflows) + initial_cashflow, 5)\n",
      "    3065.22267\n",
      "\n"
     ]
    }
   ],
   "source": [
    "help(npf.npv)"
   ]
  },
  {
   "cell_type": "code",
   "execution_count": null,
   "id": "1e600960",
   "metadata": {},
   "outputs": [],
   "source": []
  },
  {
   "cell_type": "markdown",
   "id": "1773f03d",
   "metadata": {},
   "source": [
    "### Suppose you have a capital project based on the following:\n",
    "* Five year life\n",
    "* initial investment: $425,000\n",
    "\n",
    "* Cost of capital: 12%\n",
    "* Net annual cashflow: $150,000\n",
    "1. What is the Net Present Value of the project?\n",
    "2. What is the internal rate of return?"
   ]
  },
  {
   "cell_type": "code",
   "execution_count": 15,
   "id": "1498a9dd",
   "metadata": {},
   "outputs": [],
   "source": [
    "rate = .12\n",
    "cashflows = [-425000,150000,150000,150000,150000, 150000]\n",
    "\n"
   ]
  },
  {
   "cell_type": "code",
   "execution_count": 17,
   "id": "c4b80218",
   "metadata": {},
   "outputs": [
    {
     "name": "stdout",
     "output_type": "stream",
     "text": [
      "$ 115,716.43\n"
     ]
    }
   ],
   "source": [
    "print(f'$ {npf.npv(rate,cashflows):,.2f}')"
   ]
  },
  {
   "cell_type": "code",
   "execution_count": 18,
   "id": "868ffb8f",
   "metadata": {},
   "outputs": [
    {
     "data": {
      "text/plain": [
       "[-425000.0,\n",
       " 133928.57142857142,\n",
       " 119579.08163265305,\n",
       " 106767.03717201164,\n",
       " 95327.71176072466,\n",
       " 85114.02835778988]"
      ]
     },
     "execution_count": 18,
     "metadata": {},
     "output_type": "execute_result"
    }
   ],
   "source": [
    "discounted = []\n",
    "for year in range(len(cashflows)):\n",
    "    discounted.append(cashflows[year] / (1 + rate) ** year)\n",
    "discounted    "
   ]
  },
  {
   "cell_type": "code",
   "execution_count": 19,
   "id": "c3df561f",
   "metadata": {},
   "outputs": [
    {
     "data": {
      "text/plain": [
       "115716.43035175065"
      ]
     },
     "execution_count": 19,
     "metadata": {},
     "output_type": "execute_result"
    }
   ],
   "source": [
    "sum(discounted)"
   ]
  },
  {
   "cell_type": "code",
   "execution_count": 21,
   "id": "95a30e4c",
   "metadata": {},
   "outputs": [],
   "source": [
    "irr = npf.irr(cashflows)"
   ]
  },
  {
   "cell_type": "code",
   "execution_count": 22,
   "id": "b9229217",
   "metadata": {},
   "outputs": [
    {
     "data": {
      "text/plain": [
       "-2.4010660126805305e-10"
      ]
     },
     "execution_count": 22,
     "metadata": {},
     "output_type": "execute_result"
    }
   ],
   "source": [
    "npf.npv(irr, cashflows)"
   ]
  },
  {
   "cell_type": "code",
   "execution_count": null,
   "id": "92029a32",
   "metadata": {},
   "outputs": [],
   "source": []
  },
  {
   "cell_type": "code",
   "execution_count": null,
   "id": "2cfeadeb",
   "metadata": {},
   "outputs": [],
   "source": []
  },
  {
   "cell_type": "code",
   "execution_count": null,
   "id": "b752536c",
   "metadata": {},
   "outputs": [],
   "source": []
  },
  {
   "cell_type": "code",
   "execution_count": null,
   "id": "571c13ba",
   "metadata": {},
   "outputs": [],
   "source": []
  }
 ],
 "metadata": {
  "kernelspec": {
   "display_name": "Python 3 (ipykernel)",
   "language": "python",
   "name": "python3"
  },
  "language_info": {
   "codemirror_mode": {
    "name": "ipython",
    "version": 3
   },
   "file_extension": ".py",
   "mimetype": "text/x-python",
   "name": "python",
   "nbconvert_exporter": "python",
   "pygments_lexer": "ipython3",
   "version": "3.9.7"
  }
 },
 "nbformat": 4,
 "nbformat_minor": 5
}
